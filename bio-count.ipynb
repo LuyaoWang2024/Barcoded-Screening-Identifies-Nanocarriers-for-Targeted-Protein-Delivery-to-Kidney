{
 "cells": [
  {
   "cell_type": "code",
   "execution_count": 11,
   "metadata": {},
   "outputs": [
    {
     "name": "stdout",
     "output_type": "stream",
     "text": [
      "Processing file: /mnt/share/bio/20201205.txt\n",
      "{'ACTTGGATA': 148858, 'TCGATCGCT': 417, 'ATCATAGGA': 490, 'TCGACCGAT': 608, 'TGCGATTGC': 114, 'ACTGGTAGA': 178, 'ATCCGAGCA': 364, 'GATGCATGA': 315, 'CGTATTATA': 230, 'GTGGTGCTC': 562, 'ATGAGGCTG': 380, 'ACTTGGGAT': 28, 'AGTTGGTGG': 447, 'GTACGGCTG': 160, 'CCTCAACGT': 309, 'TGGTTAGTG': 364, 'CGGCGCAGA': 351, 'TATTCTAAG': 219, 'ATTCGCCTA': 323, 'AAGTGTCAT': 387, 'ACTAGGATA': 66, 'CTGGTATCA': 282, 'CTGGCTATA': 583, 'CCGTATGAC': 277, 'GAACTATTT': 266, 'TTAGGCTCG': 315, 'CAGGTTGTA': 238, 'TGACGTGTG': 457, 'CTATTACGA': 264, 'ATGTTACTC': 524, 'GCACTATCT': 380, 'AGATGGCTA': 596, 'CTTGGATAG': 1005, 'TGTTGCATA': 306, 'GCTCCCGGC': 276, 'GATCTCGTA': 249, 'GTTCTAAGT': 690, 'AAGTTAGCT': 245, 'CACTACGTC': 185, 'GCACCGTTC': 278, 'CACTTGGAT': 245, 'ACCGTATGG': 322, 'GATTGTTTG': 630, 'ATTCGTGAC': 181, 'GACTTACAC': 115, 'GTACAGTAA': 403, 'TACTACAAT': 105, 'GCATAGTTG': 416, 'CCTATGCAC': 410, 'CGACCGATG': 163, 'TGCCGCAGA': 629, 'AGTAGTTCA': 402, 'TGAGCTGTC': 148, 'TCACGTACT': 55, 'ACAACGATA': 1, 'CTAGCTTAC': 157, 'ACTTGGAGA': 14, 'TCACTACGT': 1, 'CCATAGATT': 146, 'ACTTGATAG': 49, 'CATGGTACA': 294, 'CAGACGGTC': 242, 'GAACTGACG': 233, 'ACCGTATTG': 1, 'ATGAGGACT': 210, 'ACTTGTATA': 115, 'AGATTCTAT': 39, 'CTTGGTGCT': 1, 'ATCTGGTAG': 643, 'TATGGCACG': 379, 'GAATGGAAA': 1, 'TTGGATAGC': 50, 'ACATGGTAC': 262, 'CAGGTCCTA': 108, 'GTCCAGTTC': 159, 'ATCCCGTGA': 103, 'GGACTTATC': 188, 'GTCTTGACA': 301, 'ACTTGGAAA': 61, 'ACATTCCAG': 185, 'TACGCCGAT': 423, 'TTGATCCGT': 199, 'ACTTGGAAG': 36, 'AAGCCGTCA': 250, 'CTTGATGCT': 358, 'CTATTAGTT': 171, 'CTGCCCGAC': 305, 'CAGTAGCAT': 321, 'GATGTTGAC': 89, 'ACTTAGCAT': 8, 'CATAGAGTT': 533, 'ATAGCATAT': 10, 'TTTGATAGC': 2, 'ACAAGGATA': 4, 'ACTTGGAGC': 14, 'AACTTGGAT': 27, 'CACTCAGAG': 99, 'AGGGTGACT': 57, 'CGGCATAGC': 120, 'ACGTGGATA': 13, 'CGCATTGTG': 173, 'ATGGTGCTC': 1, 'AAGATCCTT': 1, 'ACTTAGATA': 20, 'CAGGCGGTC': 1, 'GCTTGGATA': 13, 'ATCCAAGCA': 1, 'ACATGGATA': 31, 'CAAGGATGA': 128, 'AAGGTCACA': 228, 'GATACCGAT': 222, 'ACTGGATAG': 32, 'CTACTACGT': 57, 'CTGCCCTAC': 1, 'ACTTTGATA': 162, 'ACTTGGTAG': 45, 'ACTTGGGTA': 20, 'ACTTCGATA': 12, 'ACCTTGGAT': 20, 'CGCATCTTA': 97, 'AAATTAATA': 2, 'ACTGGGATA': 5, 'ATGACGAAT': 1, 'GAACTCACG': 1, 'TGGTGCTCG': 2, 'ACATAGCAT': 5, 'ACAGCATAT': 4, 'CACTATCTG': 3, 'TGTTTGCAT': 1, 'ACTTGAATA': 28, 'ATGATACTA': 1, 'ATTGGATAG': 31, 'AGCATATCA': 6, 'GAGCCTGGT': 44, 'GGATAGCAT': 23, 'ACTTGGATG': 43, 'ACCTTAACA': 37, 'AGTAGCATG': 3, 'CAGTCGCAT': 6, 'TACACGGCC': 14, 'ACTTTGGAT': 19, 'ACTTGGGCA': 2, 'ACTTGGCTA': 2, 'TGGATAGCA': 23, 'CTCACCCAT': 16, 'CTGTCTATA': 2, 'ACTTGGAAT': 16, 'ACTTGTAGC': 13, 'CATAGTTGG': 5, 'TGAGGCTGG': 4, 'GCCTAGGTC': 33, 'TCTGGCTAT': 3, 'ACTTTGAAA': 2, 'AGTCGGTGG': 1, 'TTGCATGCT': 32, 'GACTATCTG': 1, 'CTCCCGGCG': 1, 'CTCGAGTAC': 36, 'ATGAAGGCT': 2, 'ACTAGCATA': 5, 'CTTGATAGC': 2, 'CCGATGGCA': 1, 'AACTATTTG': 3, 'ACCTGGATA': 19, 'CTGACGTGT': 4, 'AATTGGATA': 15, 'GTTCTAATT': 1, 'CATAGATTG': 5, 'TTCGCCTAG': 1, 'CATCCGAGC': 2, 'CACTTACAA': 1, 'TTGATGCTG': 4, 'ATCCGACCA': 1, 'AAATGGAAC': 1, 'CCTATGCAA': 1, 'AGGTTAGTG': 1, 'ATTCCCCTA': 1, 'GTTCTAAAG': 1, 'CTGGTAGGC': 3, 'ACTTGGACA': 23, 'GTCTTGCCA': 2, 'CGCATTGTA': 1, 'TTGATCCGA': 1, 'CGATCTCGT': 2, 'TGCTCCCGG': 1, 'CTGATATCA': 1, 'TCATAGGAG': 4, 'GTAGTTCAG': 3, 'CTCAACGTG': 3, 'ACTACCAAA': 1, 'TCAGTACTG': 1, 'CGGCGCATA': 2, 'ACATGTTAC': 2, 'GTGCCGCAG': 2, 'AGATGAGCA': 1, 'AAGTAGTTC': 1, 'CATTCCAGG': 1, 'ACTCGGATA': 22, 'ATGGATAGC': 6, 'ACTGATAGC': 11, 'CGCCGATGG': 1, 'AGTTAGCTG': 3, 'ACTTGGTTA': 5, 'GGTTAGTGG': 7, 'GTTTGTTTG': 1, 'CGACAGATG': 1, 'GGTACAGTA': 1, 'ATTGGAAGC': 1, 'GTTGCATAG': 2, 'GGTCTCGTA': 1, 'TCTTGGATA': 7, 'TGAATGGTA': 7, 'GGTTCTAAG': 5, 'ACAAGGAAA': 2, 'GATTGGTTT': 1, 'GTTAGCTGC': 10, 'TGCATGCTG': 1, 'CCATAGAAT': 1, 'AGTGTCATG': 4, 'ACACTCCAG': 1, 'TATGTCACT': 1, 'TCTTGACAG': 2, 'CTATCAGCA': 1, 'CCTCAAACG': 1, 'GACCGATGG': 1, 'ACTATAGCA': 7, 'ACTTATAGC': 1, 'ACTAGGAAA': 2, 'TACTGGTAG': 1, 'CGTGGTGCT': 1, 'ATAGGCTGG': 1, 'AAATGGATA': 2, 'GTGGTAATC': 1, 'TGCCGGCAG': 1, 'CTTATTATA': 3, 'TGGTATCAG': 2, 'GACTGTTTG': 1, 'AAGTTCCTA': 1, 'GCATTGTGG': 1, 'GGATGCATG': 1, 'CACCTTGGA': 2, 'TCTTGGTTT': 1, 'AAGGTCACG': 1, 'ACTTGTAGA': 3, 'GCATAGAGT': 2, 'ACTTGGTAT': 1, 'TATCTCGTA': 1, 'CAGAACGGT': 1, 'TCGATAGCT': 1, 'AAATGGCTA': 2, 'CAGTAGAAA': 1, 'ATTTGGATA': 5, 'CTGGCTAAA': 1, 'CGGCGCGAG': 1, 'AAGCATATC': 5, 'AGGTCCTAG': 3, 'TACGCCATG': 1, 'ATGTTAATC': 1, 'GAAGTGTCA': 1, 'ATGGCACGG': 1, 'ACAGGTTGT': 1, 'CTATTAGAT': 2, 'CGCATCTAG': 1, 'ATTAGGCTC': 2, 'CAAGTTGCA': 1, 'GTGCTCGCA': 1, 'GGTCACAGC': 2, 'ACTTGAGCA': 2, 'TCGATCGAT': 1, 'CGATCGCTG': 3, 'ACATTGATA': 1, 'AGCCTGGTG': 3, 'TGGCTATAG': 5, 'TACAGTAAG': 1, 'ACATGAATA': 1, 'AAAACTATA': 1, 'TAGCATATC': 5, 'GATTTTTTG': 1, 'AGACGGTCG': 1, 'ATTGATAGC': 2, 'CACCGTTCG': 2, 'TATGTTACT': 1, 'AAAGCCGTC': 2, 'CTTGGATAT': 1, 'ATATCAATA': 2, 'ACTTGGCAT': 2, 'TCCAGTTCG': 3, 'TGACGTGAG': 1, 'CTCATTGTG': 1, 'ACTTTTATA': 1, 'GATTCTATG': 2, 'CGCATTGAG': 1, 'GATGGCTAG': 5, 'TTCCGCAGA': 2, 'CATGTTACA': 1, 'ACTTGGCAA': 1, 'TTCTAAGTG': 4, 'AGGTCACAG': 3, 'CAGTAGCAA': 1, 'TGAGGACTG': 1, 'ATGAGGCTT': 3, 'CTTGGATGC': 2, 'ATTCTCCTA': 1, 'CGCATAGTT': 2, 'GTACTGCTG': 1, 'ACAAGTATA': 1, 'ATGAGCAGC': 1, 'AGATGTCTA': 1, 'ACGAGGCTG': 1, 'CCTTGGATA': 2, 'ACTTGCATA': 5, 'CTGTTATCA': 2, 'CATGGTACG': 2, 'ATTCGTGTC': 1, 'ATTCTAAGT': 1, 'TAGATGGCT': 1, 'AGTAATTCA': 2, 'GCATAGTAG': 1, 'GCATAGCGC': 1, 'GAGCGTGGT': 1, 'GATCTCCGT': 1, 'TTAGGCTCC': 1, 'ACATGGATG': 1, 'ACAAGCATA': 1, 'CGGTGGTAA': 1, 'TCTGGTAGG': 2, 'AGTTGGCAT': 2, 'ATCTGCTAC': 3, 'CTGGATAGC': 1, 'ACTTNGATA': 1, 'CAGGTGGTA': 1, 'TCGGAAGAG': 3, 'ATTGTTTGG': 6, 'AGCCGTCAG': 4, 'CTGGCATAG': 1, 'GATGCATCA': 1, 'GTTGGTGGG': 4, 'CAGTTTGTA': 1, 'ATATGGCTA': 1, 'GCACTATTG': 1, 'AGGTTAGCT': 1, 'GACTTATCG': 3, 'ACGTGGAAA': 1, 'TTGGTGGGC': 1, 'GTTGTTTGG': 1, 'CTAGGATGA': 1, 'GTACAGGTA': 2, 'GCCGCAGAG': 3, 'GCGCCGTTC': 1, 'GATCTCGTG': 1, 'CACCGTATG': 2, 'AGTTGGTGA': 1, 'GATCGCTGC': 1, 'GGAGTTTTG': 1, 'AATTGTATA': 1, 'ACTTCGAAA': 1, 'AGTGGTGGG': 1, 'AGAGCTGAA': 1, 'AATCCGTCA': 1, 'ACTTGGATC': 4, 'GATAGCATA': 5, 'ATTTGCATA': 1, 'ACTTGGATT': 3, 'TGGTTAGTC': 1, 'ATAGAGTTG': 5, 'CCTATGAAC': 1, 'CGTATGACG': 4, 'ATGAGGCTA': 1, 'ATCTCGTAG': 1, 'ACGCCGATG': 2, 'TATTACGAG': 6, 'AAAATGATA': 1, 'ATGGTACAG': 2, 'ACGTGGATT': 1, 'CATATAGTT': 2, 'CGTATAATA': 1, 'ACATGGTAA': 1, 'ACATGGAAC': 1, 'CATGTTGTA': 1, 'AGCCTAAGG': 1, 'TGTTACTCG': 3, 'GTAAGTAAG': 1, 'CATAAGAGT': 1, 'CGAGCCTGG': 1, 'ACTATCTGC': 1, 'AATTTGATA': 2, 'CGCATCGTA': 1, 'TCGACCTAT': 1, 'AATAGTAAT': 1, 'ATTCGAGAC': 1, 'ATCATAGTA': 1, 'AAAACGATA': 1, 'TCACGTATG': 1, 'GGGTGACTG': 1, 'GAACTGACA': 1, 'GGATTTATC': 1, 'GAAATGACG': 1, 'TGTTAGTGG': 1, 'CGAACTGAC': 1, 'TAGAGTTGC': 1, 'AGTTGTGGG': 2, 'CCGTCTGAC': 1, 'AACCGAGCA': 1, 'CTTGGTAGC': 1, 'TAGTTGGTG': 2, 'ACTAGGATC': 1, 'AACAACACA': 1, 'GCATAAGTT': 1, 'TGCCCGACG': 4, 'AGAAAGTCC': 1, 'AATAGCATA': 4, 'GTCTTGGAC': 1, 'ATGGAGGCT': 1, 'ACATGGAAA': 3, 'TCCAGGACT': 1, 'TCGATCCGC': 1, 'TTTTGCAAA': 1, 'AGTATTACA': 1, 'AGATGGGTA': 1, 'TGCCGCATA': 1, 'TTACGCCGA': 2, 'GGTCTTGAC': 3, 'TGTCCAGTT': 2, 'TTACTACAA': 1, 'ACCGTTAAT': 1, 'AGTTGGGGG': 2, 'TGACGGTGT': 1, 'GAGCTGTCG': 2, 'ACAGTAAGC': 1, 'GGCATAGCG': 2, 'CACTACGTG': 2, 'ATTTGGTGT': 1, 'GAGTTAGCT': 1, 'CTGCGCAGA': 1, 'ACTAGTATA': 1, 'ACAAAAATA': 1, 'ACTGGTATA': 1, 'AGTAGTTCG': 1, 'TCACTTACT': 1, 'TACACCGAT': 1, 'ACTCCCGGC': 1, 'GACGTGTGG': 3, 'GTAGTGCTC': 1, 'ACATCGATA': 1, 'ATAGCAGCA': 2, 'TGGTTAGGT': 1, 'CACTACTTC': 2, 'ACGATAGCA': 1, 'TGACTTGTG': 1, 'TACGGCTGG': 2, 'GATTCGCCT': 2, 'ACTATGATA': 2, 'CCGGCGCAG': 2, 'GGCGCAGAG': 2, 'ATCCCGTGG': 1, 'ATTGGTAGG': 1, 'ATCATATGA': 1, 'ATCCGGAGC': 1, 'TAGACCGAT': 1, 'ACAAGAATA': 1, 'ACTTTGTAA': 1, 'TCCGAGCAG': 1, 'ACTAGGATT': 1, 'AAGTTAGCA': 1, 'ATTGATGCT': 1, 'AAGTAAGCT': 1, 'TCACAGCAT': 1, 'AAGTTACCT': 2, 'CCTCATCGT': 1, 'CCTGAAACG': 1, 'AATTGCATA': 2, 'AATTGGCTA': 1, 'AATTGGTGA': 1, 'ACTTACACG': 1, 'AATCACACT': 1, 'CTTGGATCG': 1, 'GGTCCAGTT': 1, 'ATTCTCATA': 1, 'CAGGACGGT': 2, 'ACTTTAGCA': 3, 'ACTCAGAGG': 3, 'CTGGCGATA': 1, 'CTGCCAAGA': 1, 'GAATTACAC': 1, 'GTGGTGCGC': 1, 'ACTACGTCG': 1, 'TAATCAAAG': 1, 'CTGCATAGC': 1, 'AAGTCACAG': 1, 'TGTAGTGGC': 1, 'ATGAGCTGG': 1, 'ATGCATGAG': 1, 'ATCATAAGC': 1, 'CTTGGAAAG': 1, 'TTGGTGCTC': 1, 'ACATAGTTG': 1, 'CAAGGAGCA': 1, 'CGTATTTTA': 1, 'TCGAATCGC': 1, 'TATTAGTTG': 1, 'TCTACCGAT': 1, 'AAGTTTCAT': 1, 'CTCGATCGC': 1, 'ATTCTAAGG': 5, 'ATGAGCATG': 1, 'CAACTACGT': 1, 'TGCCGCAAG': 1, 'CAGGGTACA': 1, 'TTGTTTGGC': 1, 'CTGTTACGA': 1, 'CTATGCACG': 3, 'TCGACCGAC': 1, 'CTAGCTAAC': 1, 'GCGATTGCG': 1, 'TGCCTCAGA': 2, 'CTTTGATAG': 1, 'GCATAGTAT': 1, 'ACTTGAAAT': 1, 'TGGTTAAGT': 1, 'TCTTGGGTA': 1, 'AGATGGCCA': 1, 'ATGATAAGT': 1, 'ACATGGATC': 1, 'CCGATGCAT': 1, 'TGACGTGTT': 1, 'ACGTGCAAA': 1, 'AACATAGGA': 1, 'TAGCTTACG': 3, 'TAGGCTCGG': 1, 'GCTATTACG': 1, 'ATGAGACTG': 1, 'GATTGTATG': 1, 'AGGCGCAGA': 1, 'GCATATCAA': 3, 'TGACGGGTG': 1, 'CAGGTAGCA': 1, 'AATCATAGG': 3, 'ACATGTAAA': 1, 'GCACAATAT': 1, 'ACATCCATA': 1, 'GATTGTTTT': 1, 'ACACGACGC': 1, 'CTGCTATAG': 1, 'TTCGATCGC': 1, 'CGAACCGAT': 1, 'AGAAGATCA': 1, 'ACTTATATC': 1, 'AGATGACTA': 1, 'TGACGAGTG': 1, 'GTAACGCTG': 1, 'TACGCCAAT': 1, 'CATGGAACA': 1, 'ACTTTCATA': 1, 'AGTTGGATA': 1, 'ACTTTTAAA': 1, 'TGTTTGGCA': 1, 'TGCCGCAGC': 1, 'CCTATGCTC': 1, 'AAGTGCAAA': 1, 'TGGTAGGCA': 1}\n"
     ]
    }
   ],
   "source": [
    "from pathlib import Path\n",
    "\n",
    "in_path='/mnt/share/bio'\n",
    "p = Path(in_path)\n",
    "counter = {}\n",
    "for file in p.rglob('*.txt'):\n",
    "    print('Processing file: ' + str(file))\n",
    "    with open(file, 'r') as f:\n",
    "        line = f.readline()\n",
    "        line_number = 1\n",
    "        while line:\n",
    "            if line_number % 4 == 2:\n",
    "                part = line[21:30]\n",
    "                # print(part)\n",
    "                counter[part] = counter.get(part,0) + 1\n",
    "            line = f.readline()\n",
    "            line_number = line_number + 1\n",
    "print(counter)"
   ]
  },
  {
   "cell_type": "code",
   "execution_count": 13,
   "metadata": {},
   "outputs": [],
   "source": [
    "import pandas as pd"
   ]
  },
  {
   "cell_type": "code",
   "execution_count": 15,
   "metadata": {},
   "outputs": [],
   "source": [
    "df = pd.DataFrame(list(counter.items()),columns = ['key','value'])"
   ]
  },
  {
   "cell_type": "code",
   "execution_count": 16,
   "metadata": {},
   "outputs": [
    {
     "data": {
      "text/html": [
       "<div>\n",
       "<style scoped>\n",
       "    .dataframe tbody tr th:only-of-type {\n",
       "        vertical-align: middle;\n",
       "    }\n",
       "\n",
       "    .dataframe tbody tr th {\n",
       "        vertical-align: top;\n",
       "    }\n",
       "\n",
       "    .dataframe thead th {\n",
       "        text-align: right;\n",
       "    }\n",
       "</style>\n",
       "<table border=\"1\" class=\"dataframe\">\n",
       "  <thead>\n",
       "    <tr style=\"text-align: right;\">\n",
       "      <th></th>\n",
       "      <th>key</th>\n",
       "      <th>value</th>\n",
       "    </tr>\n",
       "  </thead>\n",
       "  <tbody>\n",
       "    <tr>\n",
       "      <th>0</th>\n",
       "      <td>ACTTGGATA</td>\n",
       "      <td>148858</td>\n",
       "    </tr>\n",
       "    <tr>\n",
       "      <th>1</th>\n",
       "      <td>TCGATCGCT</td>\n",
       "      <td>417</td>\n",
       "    </tr>\n",
       "    <tr>\n",
       "      <th>2</th>\n",
       "      <td>ATCATAGGA</td>\n",
       "      <td>490</td>\n",
       "    </tr>\n",
       "    <tr>\n",
       "      <th>3</th>\n",
       "      <td>TCGACCGAT</td>\n",
       "      <td>608</td>\n",
       "    </tr>\n",
       "    <tr>\n",
       "      <th>4</th>\n",
       "      <td>TGCGATTGC</td>\n",
       "      <td>114</td>\n",
       "    </tr>\n",
       "    <tr>\n",
       "      <th>...</th>\n",
       "      <td>...</td>\n",
       "      <td>...</td>\n",
       "    </tr>\n",
       "    <tr>\n",
       "      <th>555</th>\n",
       "      <td>TGTTTGGCA</td>\n",
       "      <td>1</td>\n",
       "    </tr>\n",
       "    <tr>\n",
       "      <th>556</th>\n",
       "      <td>TGCCGCAGC</td>\n",
       "      <td>1</td>\n",
       "    </tr>\n",
       "    <tr>\n",
       "      <th>557</th>\n",
       "      <td>CCTATGCTC</td>\n",
       "      <td>1</td>\n",
       "    </tr>\n",
       "    <tr>\n",
       "      <th>558</th>\n",
       "      <td>AAGTGCAAA</td>\n",
       "      <td>1</td>\n",
       "    </tr>\n",
       "    <tr>\n",
       "      <th>559</th>\n",
       "      <td>TGGTAGGCA</td>\n",
       "      <td>1</td>\n",
       "    </tr>\n",
       "  </tbody>\n",
       "</table>\n",
       "<p>560 rows × 2 columns</p>\n",
       "</div>"
      ],
      "text/plain": [
       "           key   value\n",
       "0    ACTTGGATA  148858\n",
       "1    TCGATCGCT     417\n",
       "2    ATCATAGGA     490\n",
       "3    TCGACCGAT     608\n",
       "4    TGCGATTGC     114\n",
       "..         ...     ...\n",
       "555  TGTTTGGCA       1\n",
       "556  TGCCGCAGC       1\n",
       "557  CCTATGCTC       1\n",
       "558  AAGTGCAAA       1\n",
       "559  TGGTAGGCA       1\n",
       "\n",
       "[560 rows x 2 columns]"
      ]
     },
     "execution_count": 16,
     "metadata": {},
     "output_type": "execute_result"
    }
   ],
   "source": [
    "df"
   ]
  },
  {
   "cell_type": "code",
   "execution_count": 17,
   "metadata": {},
   "outputs": [
    {
     "data": {
      "text/plain": [
       "176265"
      ]
     },
     "execution_count": 17,
     "metadata": {},
     "output_type": "execute_result"
    }
   ],
   "source": [
    "df['value'].sum()"
   ]
  },
  {
   "cell_type": "code",
   "execution_count": 19,
   "metadata": {},
   "outputs": [
    {
     "data": {
      "text/html": [
       "<div>\n",
       "<style scoped>\n",
       "    .dataframe tbody tr th:only-of-type {\n",
       "        vertical-align: middle;\n",
       "    }\n",
       "\n",
       "    .dataframe tbody tr th {\n",
       "        vertical-align: top;\n",
       "    }\n",
       "\n",
       "    .dataframe thead th {\n",
       "        text-align: right;\n",
       "    }\n",
       "</style>\n",
       "<table border=\"1\" class=\"dataframe\">\n",
       "  <thead>\n",
       "    <tr style=\"text-align: right;\">\n",
       "      <th></th>\n",
       "      <th>key</th>\n",
       "      <th>value</th>\n",
       "      <th>perc</th>\n",
       "    </tr>\n",
       "  </thead>\n",
       "  <tbody>\n",
       "    <tr>\n",
       "      <th>0</th>\n",
       "      <td>ACTTGGATA</td>\n",
       "      <td>148858</td>\n",
       "      <td>0.844513</td>\n",
       "    </tr>\n",
       "    <tr>\n",
       "      <th>1</th>\n",
       "      <td>TCGATCGCT</td>\n",
       "      <td>417</td>\n",
       "      <td>0.002366</td>\n",
       "    </tr>\n",
       "    <tr>\n",
       "      <th>2</th>\n",
       "      <td>ATCATAGGA</td>\n",
       "      <td>490</td>\n",
       "      <td>0.002780</td>\n",
       "    </tr>\n",
       "    <tr>\n",
       "      <th>3</th>\n",
       "      <td>TCGACCGAT</td>\n",
       "      <td>608</td>\n",
       "      <td>0.003449</td>\n",
       "    </tr>\n",
       "    <tr>\n",
       "      <th>4</th>\n",
       "      <td>TGCGATTGC</td>\n",
       "      <td>114</td>\n",
       "      <td>0.000647</td>\n",
       "    </tr>\n",
       "    <tr>\n",
       "      <th>...</th>\n",
       "      <td>...</td>\n",
       "      <td>...</td>\n",
       "      <td>...</td>\n",
       "    </tr>\n",
       "    <tr>\n",
       "      <th>555</th>\n",
       "      <td>TGTTTGGCA</td>\n",
       "      <td>1</td>\n",
       "      <td>0.000006</td>\n",
       "    </tr>\n",
       "    <tr>\n",
       "      <th>556</th>\n",
       "      <td>TGCCGCAGC</td>\n",
       "      <td>1</td>\n",
       "      <td>0.000006</td>\n",
       "    </tr>\n",
       "    <tr>\n",
       "      <th>557</th>\n",
       "      <td>CCTATGCTC</td>\n",
       "      <td>1</td>\n",
       "      <td>0.000006</td>\n",
       "    </tr>\n",
       "    <tr>\n",
       "      <th>558</th>\n",
       "      <td>AAGTGCAAA</td>\n",
       "      <td>1</td>\n",
       "      <td>0.000006</td>\n",
       "    </tr>\n",
       "    <tr>\n",
       "      <th>559</th>\n",
       "      <td>TGGTAGGCA</td>\n",
       "      <td>1</td>\n",
       "      <td>0.000006</td>\n",
       "    </tr>\n",
       "  </tbody>\n",
       "</table>\n",
       "<p>560 rows × 3 columns</p>\n",
       "</div>"
      ],
      "text/plain": [
       "           key   value      perc\n",
       "0    ACTTGGATA  148858  0.844513\n",
       "1    TCGATCGCT     417  0.002366\n",
       "2    ATCATAGGA     490  0.002780\n",
       "3    TCGACCGAT     608  0.003449\n",
       "4    TGCGATTGC     114  0.000647\n",
       "..         ...     ...       ...\n",
       "555  TGTTTGGCA       1  0.000006\n",
       "556  TGCCGCAGC       1  0.000006\n",
       "557  CCTATGCTC       1  0.000006\n",
       "558  AAGTGCAAA       1  0.000006\n",
       "559  TGGTAGGCA       1  0.000006\n",
       "\n",
       "[560 rows x 3 columns]"
      ]
     },
     "execution_count": 19,
     "metadata": {},
     "output_type": "execute_result"
    }
   ],
   "source": [
    "df['perc']= df['value']/df['value'].sum()\n",
    "df"
   ]
  },
  {
   "cell_type": "markdown",
   "metadata": {},
   "source": [
    "df.sort_values(by = 'value', ascending=False). to_csv( '/mnt/share/out/daimingming.csv',index=None)"
   ]
  }
 ],
 "metadata": {
  "kernelspec": {
   "display_name": "Python 3",
   "language": "python",
   "name": "python3"
  },
  "language_info": {
   "codemirror_mode": {
    "name": "ipython",
    "version": 3
   },
   "file_extension": ".py",
   "mimetype": "text/x-python",
   "name": "python",
   "nbconvert_exporter": "python",
   "pygments_lexer": "ipython3",
   "version": "3.8.5"
  }
 },
 "nbformat": 4,
 "nbformat_minor": 4
}
